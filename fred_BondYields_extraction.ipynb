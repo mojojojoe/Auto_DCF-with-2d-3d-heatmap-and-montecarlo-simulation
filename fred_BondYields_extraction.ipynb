{
 "cells": [
  {
   "cell_type": "code",
   "execution_count": null,
   "id": "2cdf2bf5",
   "metadata": {},
   "outputs": [
    {
     "name": "stdout",
     "output_type": "stream",
     "text": [
      "2025-05-26     NaN\n",
      "2025-05-27    4.43\n",
      "2025-05-28    4.47\n",
      "2025-05-29    4.43\n",
      "2025-05-30    4.41\n",
      "dtype: float64\n",
      "2025-01-01    5.46\n",
      "2025-02-01    5.32\n",
      "2025-03-01    5.29\n",
      "2025-04-01    5.45\n",
      "2025-05-01    5.54\n",
      "dtype: float64\n"
     ]
    }
   ],
   "source": [
    "# Install fredapi if not already installed\n",
    "\n",
    "from fredapi import Fred\n",
    "import pandas as pd\n",
    "\n",
    "# You need to get your own API key from https://fred.stlouisfed.org/docs/api/api_key.html\n",
    "fred = Fred(api_key='')\n",
    "\n",
    "# Example: Get 10-Year Treasury Constant Maturity Rate (DGS10)\n",
    "dgs10 = fred.get_series('DGS10')\n",
    "print(dgs10.tail())\n",
    "\n",
    "# Other common bond yield series:\n",
    "# 'DGS1'  : 1-Year Treasury\n",
    "# 'DGS2'  : 2-Year Treasury\n",
    "# 'DGS5'  : 5-Year Treasury\n",
    "# 'DGS30' : 30-Year Treasury\n",
    "# 'AAA'   : Moody's Seasoned Aaa Corporate Bond Yield\n",
    "# 'BAA'   : Moody's Seasoned Baa Corporate Bond Yield\n",
    "\n",
    "# Example: Get AAA Corporate Bond Yield\n",
    "aaa_yield = fred.get_series('AAA')\n",
    "print(aaa_yield.tail())"
   ]
  }
 ],
 "metadata": {
  "kernelspec": {
   "display_name": "Python 3",
   "language": "python",
   "name": "python3"
  },
  "language_info": {
   "codemirror_mode": {
    "name": "ipython",
    "version": 3
   },
   "file_extension": ".py",
   "mimetype": "text/x-python",
   "name": "python",
   "nbconvert_exporter": "python",
   "pygments_lexer": "ipython3",
   "version": "3.13.3"
  }
 },
 "nbformat": 4,
 "nbformat_minor": 5
}
